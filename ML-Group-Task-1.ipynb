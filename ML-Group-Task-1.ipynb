{
 "cells": [
  {
   "cell_type": "markdown",
   "id": "8410983a-6be4-4c23-b648-65ac96975085",
   "metadata": {},
   "source": [
    "### imports"
   ]
  },
  {
   "cell_type": "code",
   "execution_count": 1,
   "id": "4db4469b-1d6b-4f23-9863-926e6d9d0486",
   "metadata": {},
   "outputs": [],
   "source": [
    "from sklearn.linear_model import LassoCV\n",
    "import pandas as pd\n",
    "from sklearn.model_selection import train_test_split\n",
    "from keras.models import Sequential\n",
    "from keras.layers import Dense\n",
    "from tensorflow.keras.optimizers import Adam"
   ]
  },
  {
   "cell_type": "code",
   "execution_count": 2,
   "id": "dac115aa-f6d8-4c6a-91b5-e45cfae6a0a9",
   "metadata": {},
   "outputs": [],
   "source": [
    "#get data from csv\n",
    "data=pd.read_csv(\"housing_prices.csv\",na_values = \"NA\")"
   ]
  },
  {
   "cell_type": "markdown",
   "id": "aede0eb5-4a19-47c6-8f51-a764455da8e6",
   "metadata": {},
   "source": [
    "### drop id column and rows with 80% missing values"
   ]
  },
  {
   "cell_type": "code",
   "execution_count": 3,
   "id": "9c19b5b0-c670-4c37-b868-362559e2675d",
   "metadata": {},
   "outputs": [],
   "source": [
    "data.drop('Id', axis=1, inplace=True)\n",
    "data.dropna(thresh=0.80*(len(data.columns)),inplace=True) "
   ]
  },
  {
   "cell_type": "markdown",
   "id": "04e58903-7915-493b-9c9f-ef94c9a60965",
   "metadata": {},
   "source": [
    "### filling out missing values\n",
    "![filling strategy](strategy.png)"
   ]
  },
  {
   "cell_type": "code",
   "execution_count": 4,
   "id": "36d5f608-1e3e-4606-8314-a946c8c57042",
   "metadata": {},
   "outputs": [],
   "source": [
    "data[\"FireplaceQu\"].fillna(method=\"bfill\",inplace=True)\n",
    "data['LotFrontage'].fillna((data['LotFrontage'].mean()), inplace=True)\n",
    "data['MasVnrArea'].fillna((data['MasVnrArea'].mean()), inplace=True)\n",
    "data.fillna(method=\"ffill\",inplace=True)"
   ]
  },
  {
   "cell_type": "markdown",
   "id": "a325c57a-96a7-4c57-8c17-d9559e2422ce",
   "metadata": {},
   "source": [
    "### Encoding the dataset"
   ]
  },
  {
   "cell_type": "code",
   "execution_count": 5,
   "id": "c5f741c1-1786-4b4c-933c-b86d36087a51",
   "metadata": {},
   "outputs": [],
   "source": [
    "for col in data.select_dtypes(include='object').columns:\n",
    "    data[col] = data[col].astype(\"category\").cat.codes"
   ]
  },
  {
   "cell_type": "markdown",
   "id": "b01ad211-480f-49c2-b373-dc61b53ff52d",
   "metadata": {},
   "source": [
    "### set features and targets"
   ]
  },
  {
   "cell_type": "code",
   "execution_count": 6,
   "id": "f30897c9-5540-4d21-bf68-e1b296349d34",
   "metadata": {},
   "outputs": [],
   "source": [
    "features = data.drop(\"SalePrice\",1)\n",
    "target = data[\"SalePrice\"]"
   ]
  },
  {
   "cell_type": "markdown",
   "id": "638a446e-723e-42a4-9d91-94ef992fb50d",
   "metadata": {},
   "source": [
    "### feature selection using L1"
   ]
  },
  {
   "cell_type": "code",
   "execution_count": 7,
   "id": "408da2b5-d01e-484e-9a17-5a92da47f9ec",
   "metadata": {},
   "outputs": [],
   "source": [
    "l1 = LassoCV()\n",
    "l1.fit(features, target)\n",
    "coef = pd.Series(l1.coef_, index = features.columns)"
   ]
  },
  {
   "cell_type": "code",
   "execution_count": 8,
   "id": "962698fb-1f09-4135-88bc-6dc2f632efab",
   "metadata": {},
   "outputs": [
    {
     "data": {
      "text/plain": [
       "['LotArea',\n",
       " 'YearBuilt',\n",
       " 'YearRemodAdd',\n",
       " 'MasVnrArea',\n",
       " 'BsmtFinSF1',\n",
       " 'TotalBsmtSF',\n",
       " '2ndFlrSF',\n",
       " 'GrLivArea',\n",
       " 'GarageArea',\n",
       " 'WoodDeckSF',\n",
       " 'MiscVal']"
      ]
     },
     "execution_count": 8,
     "metadata": {},
     "output_type": "execute_result"
    }
   ],
   "source": [
    "sel_features=[]\n",
    "for ind,co in coef.iteritems():\n",
    "    if(abs(co)!=0):\n",
    "        sel_features.append(ind)\n",
    "sel_features\n"
   ]
  },
  {
   "cell_type": "code",
   "execution_count": 9,
   "id": "30c21346-b8cd-4b78-b998-d10b78bb97ed",
   "metadata": {},
   "outputs": [],
   "source": [
    "X, x, Y, y = train_test_split(data[sel_features], target, train_size=0.7)"
   ]
  },
  {
   "cell_type": "code",
   "execution_count": 10,
   "id": "92742458-da51-46cb-baad-0477b474c6cb",
   "metadata": {},
   "outputs": [
    {
     "name": "stdout",
     "output_type": "stream",
     "text": [
      "Epoch 1/100\n",
      "32/32 [==============================] - 1s 1ms/step - loss: 13596.7285 - precision: 1.0000 - recall: 0.4672      \n",
      "Epoch 2/100\n",
      "32/32 [==============================] - 0s 2ms/step - loss: -257245.7969 - precision: 1.0000 - recall: 1.0000\n",
      "Epoch 3/100\n",
      "32/32 [==============================] - 0s 1ms/step - loss: -478160.4688 - precision: 1.0000 - recall: 1.0000\n",
      "Epoch 4/100\n",
      "32/32 [==============================] - 0s 2ms/step - loss: -683327.4375 - precision: 1.0000 - recall: 1.0000\n",
      "Epoch 5/100\n",
      "32/32 [==============================] - 0s 2ms/step - loss: -878039.5625 - precision: 1.0000 - recall: 1.0000\n",
      "Epoch 6/100\n",
      "32/32 [==============================] - 0s 1ms/step - loss: -1067122.2500 - precision: 1.0000 - recall: 1.0000\n",
      "Epoch 7/100\n",
      "32/32 [==============================] - 0s 1ms/step - loss: -1253209.7500 - precision: 1.0000 - recall: 1.0000\n",
      "Epoch 8/100\n",
      "32/32 [==============================] - 0s 1ms/step - loss: -1435865.5000 - precision: 1.0000 - recall: 1.0000\n",
      "Epoch 9/100\n",
      "32/32 [==============================] - 0s 2ms/step - loss: -1617994.0000 - precision: 1.0000 - recall: 1.0000\n",
      "Epoch 10/100\n",
      "32/32 [==============================] - 0s 2ms/step - loss: -1797676.7500 - precision: 1.0000 - recall: 1.0000\n",
      "Epoch 11/100\n",
      "32/32 [==============================] - 0s 2ms/step - loss: -1976886.7500 - precision: 1.0000 - recall: 1.0000\n",
      "Epoch 12/100\n",
      "32/32 [==============================] - 0s 2ms/step - loss: -2155186.0000 - precision: 1.0000 - recall: 1.0000\n",
      "Epoch 13/100\n",
      "32/32 [==============================] - 0s 1ms/step - loss: -2333422.5000 - precision: 1.0000 - recall: 1.0000\n",
      "Epoch 14/100\n",
      "32/32 [==============================] - 0s 2ms/step - loss: -2509888.0000 - precision: 1.0000 - recall: 1.0000\n",
      "Epoch 15/100\n",
      "32/32 [==============================] - 0s 1ms/step - loss: -2687008.2500 - precision: 1.0000 - recall: 1.0000\n",
      "Epoch 16/100\n",
      "32/32 [==============================] - 0s 2ms/step - loss: -2863094.7500 - precision: 1.0000 - recall: 1.0000\n",
      "Epoch 17/100\n",
      "32/32 [==============================] - 0s 3ms/step - loss: -3039263.2500 - precision: 1.0000 - recall: 1.0000\n",
      "Epoch 18/100\n",
      "32/32 [==============================] - 0s 2ms/step - loss: -3214146.5000 - precision: 1.0000 - recall: 1.0000\n",
      "Epoch 19/100\n",
      "32/32 [==============================] - 0s 2ms/step - loss: -3390019.5000 - precision: 1.0000 - recall: 1.0000\n",
      "Epoch 20/100\n",
      "32/32 [==============================] - 0s 2ms/step - loss: -3565056.0000 - precision: 1.0000 - recall: 1.0000\n",
      "Epoch 21/100\n",
      "32/32 [==============================] - 0s 2ms/step - loss: -3739984.5000 - precision: 1.0000 - recall: 1.0000\n",
      "Epoch 22/100\n",
      "32/32 [==============================] - 0s 2ms/step - loss: -3914451.5000 - precision: 1.0000 - recall: 1.0000\n",
      "Epoch 23/100\n",
      "32/32 [==============================] - 0s 2ms/step - loss: -4089411.2500 - precision: 1.0000 - recall: 1.0000\n",
      "Epoch 24/100\n",
      "32/32 [==============================] - 0s 2ms/step - loss: -4263661.0000 - precision: 1.0000 - recall: 1.0000\n",
      "Epoch 25/100\n",
      "32/32 [==============================] - 0s 2ms/step - loss: -4438289.0000 - precision: 1.0000 - recall: 1.0000\n",
      "Epoch 26/100\n",
      "32/32 [==============================] - 0s 2ms/step - loss: -4611888.0000 - precision: 1.0000 - recall: 1.0000\n",
      "Epoch 27/100\n",
      "32/32 [==============================] - 0s 2ms/step - loss: -4785972.5000 - precision: 1.0000 - recall: 1.0000\n",
      "Epoch 28/100\n",
      "32/32 [==============================] - 0s 2ms/step - loss: -4960412.0000 - precision: 1.0000 - recall: 1.0000\n",
      "Epoch 29/100\n",
      "32/32 [==============================] - 0s 2ms/step - loss: -5133619.5000 - precision: 1.0000 - recall: 1.0000\n",
      "Epoch 30/100\n",
      "32/32 [==============================] - 0s 2ms/step - loss: -5307484.5000 - precision: 1.0000 - recall: 1.0000\n",
      "Epoch 31/100\n",
      "32/32 [==============================] - 0s 2ms/step - loss: -5481249.5000 - precision: 1.0000 - recall: 1.0000\n",
      "Epoch 32/100\n",
      "32/32 [==============================] - 0s 2ms/step - loss: -5654240.5000 - precision: 1.0000 - recall: 1.0000\n",
      "Epoch 33/100\n",
      "32/32 [==============================] - 0s 2ms/step - loss: -5828190.0000 - precision: 1.0000 - recall: 1.0000\n",
      "Epoch 34/100\n",
      "32/32 [==============================] - 0s 3ms/step - loss: -6001217.5000 - precision: 1.0000 - recall: 1.0000\n",
      "Epoch 35/100\n",
      "32/32 [==============================] - 0s 2ms/step - loss: -6175059.0000 - precision: 1.0000 - recall: 1.0000\n",
      "Epoch 36/100\n",
      "32/32 [==============================] - 0s 2ms/step - loss: -6347520.5000 - precision: 1.0000 - recall: 1.0000\n",
      "Epoch 37/100\n",
      "32/32 [==============================] - 0s 2ms/step - loss: -6521433.5000 - precision: 1.0000 - recall: 1.0000\n",
      "Epoch 38/100\n",
      "32/32 [==============================] - 0s 2ms/step - loss: -6694313.0000 - precision: 1.0000 - recall: 1.0000\n",
      "Epoch 39/100\n",
      "32/32 [==============================] - 0s 2ms/step - loss: -6867377.5000 - precision: 1.0000 - recall: 1.0000\n",
      "Epoch 40/100\n",
      "32/32 [==============================] - 0s 2ms/step - loss: -7040179.0000 - precision: 1.0000 - recall: 1.0000\n",
      "Epoch 41/100\n",
      "32/32 [==============================] - 0s 2ms/step - loss: -7213402.5000 - precision: 1.0000 - recall: 1.0000\n",
      "Epoch 42/100\n",
      "32/32 [==============================] - 0s 2ms/step - loss: -7386137.5000 - precision: 1.0000 - recall: 1.0000\n",
      "Epoch 43/100\n",
      "32/32 [==============================] - 0s 2ms/step - loss: -7559124.0000 - precision: 1.0000 - recall: 1.0000\n",
      "Epoch 44/100\n",
      "32/32 [==============================] - 0s 2ms/step - loss: -7732213.0000 - precision: 1.0000 - recall: 1.0000\n",
      "Epoch 45/100\n",
      "32/32 [==============================] - 0s 2ms/step - loss: -7904320.5000 - precision: 1.0000 - recall: 1.0000\n",
      "Epoch 46/100\n",
      "32/32 [==============================] - 0s 2ms/step - loss: -8077592.0000 - precision: 1.0000 - recall: 1.0000\n",
      "Epoch 47/100\n",
      "32/32 [==============================] - 0s 2ms/step - loss: -8250073.0000 - precision: 1.0000 - recall: 1.0000\n",
      "Epoch 48/100\n",
      "32/32 [==============================] - 0s 2ms/step - loss: -8423005.0000 - precision: 1.0000 - recall: 1.0000\n",
      "Epoch 49/100\n",
      "32/32 [==============================] - 0s 2ms/step - loss: -8595584.0000 - precision: 1.0000 - recall: 1.0000\n",
      "Epoch 50/100\n",
      "32/32 [==============================] - 0s 2ms/step - loss: -8768160.0000 - precision: 1.0000 - recall: 1.0000\n",
      "Epoch 51/100\n",
      "32/32 [==============================] - 0s 2ms/step - loss: -8940854.0000 - precision: 1.0000 - recall: 1.0000\n",
      "Epoch 52/100\n",
      "32/32 [==============================] - 0s 2ms/step - loss: -9113340.0000 - precision: 1.0000 - recall: 1.0000\n",
      "Epoch 53/100\n",
      "32/32 [==============================] - 0s 3ms/step - loss: -9286164.0000 - precision: 1.0000 - recall: 1.0000\n",
      "Epoch 54/100\n",
      "32/32 [==============================] - 0s 2ms/step - loss: -9457985.0000 - precision: 1.0000 - recall: 1.0000\n",
      "Epoch 55/100\n",
      "32/32 [==============================] - 0s 3ms/step - loss: -9630902.0000 - precision: 1.0000 - recall: 1.0000\n",
      "Epoch 56/100\n",
      "32/32 [==============================] - 0s 3ms/step - loss: -9803997.0000 - precision: 1.0000 - recall: 1.0000\n",
      "Epoch 57/100\n",
      "32/32 [==============================] - 0s 2ms/step - loss: -9976023.0000 - precision: 1.0000 - recall: 1.0000\n",
      "Epoch 58/100\n",
      "32/32 [==============================] - 0s 2ms/step - loss: -10148335.0000 - precision: 1.0000 - recall: 1.0000\n",
      "Epoch 59/100\n",
      "32/32 [==============================] - 0s 2ms/step - loss: -10321017.0000 - precision: 1.0000 - recall: 1.0000\n",
      "Epoch 60/100\n",
      "32/32 [==============================] - 0s 2ms/step - loss: -10493208.0000 - precision: 1.0000 - recall: 1.0000\n",
      "Epoch 61/100\n",
      "32/32 [==============================] - 0s 2ms/step - loss: -10665665.0000 - precision: 1.0000 - recall: 1.0000\n",
      "Epoch 62/100\n",
      "32/32 [==============================] - 0s 2ms/step - loss: -10838233.0000 - precision: 1.0000 - recall: 1.0000\n",
      "Epoch 63/100\n",
      "32/32 [==============================] - 0s 3ms/step - loss: -11010892.0000 - precision: 1.0000 - recall: 1.0000\n",
      "Epoch 64/100\n",
      "32/32 [==============================] - 0s 2ms/step - loss: -11182795.0000 - precision: 1.0000 - recall: 1.0000\n",
      "Epoch 65/100\n",
      "32/32 [==============================] - 0s 2ms/step - loss: -11355658.0000 - precision: 1.0000 - recall: 1.0000\n",
      "Epoch 66/100\n",
      "32/32 [==============================] - 0s 2ms/step - loss: -11527469.0000 - precision: 1.0000 - recall: 1.0000\n",
      "Epoch 67/100\n",
      "32/32 [==============================] - 0s 3ms/step - loss: -11700092.0000 - precision: 1.0000 - recall: 1.0000\n",
      "Epoch 68/100\n",
      "32/32 [==============================] - 0s 2ms/step - loss: -11872442.0000 - precision: 1.0000 - recall: 1.0000\n",
      "Epoch 69/100\n",
      "32/32 [==============================] - 0s 2ms/step - loss: -12045162.0000 - precision: 1.0000 - recall: 1.0000\n",
      "Epoch 70/100\n",
      "32/32 [==============================] - 0s 2ms/step - loss: -12217049.0000 - precision: 1.0000 - recall: 1.0000\n",
      "Epoch 71/100\n",
      "32/32 [==============================] - 0s 2ms/step - loss: -12389043.0000 - precision: 1.0000 - recall: 1.0000\n",
      "Epoch 72/100\n",
      "32/32 [==============================] - 0s 2ms/step - loss: -12561674.0000 - precision: 1.0000 - recall: 1.0000\n",
      "Epoch 73/100\n",
      "32/32 [==============================] - 0s 2ms/step - loss: -12734312.0000 - precision: 1.0000 - recall: 1.0000\n",
      "Epoch 74/100\n",
      "32/32 [==============================] - 0s 2ms/step - loss: -12906223.0000 - precision: 1.0000 - recall: 1.0000\n",
      "Epoch 75/100\n",
      "32/32 [==============================] - 0s 2ms/step - loss: -13078366.0000 - precision: 1.0000 - recall: 1.0000\n",
      "Epoch 76/100\n",
      "32/32 [==============================] - 0s 2ms/step - loss: -13251298.0000 - precision: 1.0000 - recall: 1.0000\n",
      "Epoch 77/100\n",
      "32/32 [==============================] - 0s 3ms/step - loss: -13422782.0000 - precision: 1.0000 - recall: 1.0000\n",
      "Epoch 78/100\n",
      "32/32 [==============================] - 0s 2ms/step - loss: -13595519.0000 - precision: 1.0000 - recall: 1.0000\n",
      "Epoch 79/100\n",
      "32/32 [==============================] - 0s 2ms/step - loss: -13767141.0000 - precision: 1.0000 - recall: 1.0000\n",
      "Epoch 80/100\n",
      "32/32 [==============================] - 0s 2ms/step - loss: -13940186.0000 - precision: 1.0000 - recall: 1.0000\n",
      "Epoch 81/100\n",
      "32/32 [==============================] - 0s 2ms/step - loss: -14112000.0000 - precision: 1.0000 - recall: 1.0000\n",
      "Epoch 82/100\n",
      "32/32 [==============================] - 0s 3ms/step - loss: -14284089.0000 - precision: 1.0000 - recall: 1.0000\n",
      "Epoch 83/100\n",
      "32/32 [==============================] - 0s 2ms/step - loss: -14456110.0000 - precision: 1.0000 - recall: 1.0000\n",
      "Epoch 84/100\n",
      "32/32 [==============================] - 0s 2ms/step - loss: -14628686.0000 - precision: 1.0000 - recall: 1.0000\n",
      "Epoch 85/100\n",
      "32/32 [==============================] - 0s 2ms/step - loss: -14801048.0000 - precision: 1.0000 - recall: 1.0000\n",
      "Epoch 86/100\n",
      "32/32 [==============================] - 0s 3ms/step - loss: -14972894.0000 - precision: 1.0000 - recall: 1.0000\n",
      "Epoch 87/100\n",
      "32/32 [==============================] - 0s 2ms/step - loss: -15144952.0000 - precision: 1.0000 - recall: 1.0000\n",
      "Epoch 88/100\n",
      "32/32 [==============================] - 0s 2ms/step - loss: -15317305.0000 - precision: 1.0000 - recall: 1.0000\n",
      "Epoch 89/100\n",
      "32/32 [==============================] - 0s 2ms/step - loss: -15489630.0000 - precision: 1.0000 - recall: 1.0000\n",
      "Epoch 90/100\n",
      "32/32 [==============================] - 0s 2ms/step - loss: -15661636.0000 - precision: 1.0000 - recall: 1.0000\n",
      "Epoch 91/100\n",
      "32/32 [==============================] - 0s 2ms/step - loss: -15834259.0000 - precision: 1.0000 - recall: 1.0000\n",
      "Epoch 92/100\n",
      "32/32 [==============================] - 0s 2ms/step - loss: -16005810.0000 - precision: 1.0000 - recall: 1.0000\n",
      "Epoch 93/100\n",
      "32/32 [==============================] - 0s 2ms/step - loss: -16178468.0000 - precision: 1.0000 - recall: 1.0000\n",
      "Epoch 94/100\n",
      "32/32 [==============================] - 0s 3ms/step - loss: -16350247.0000 - precision: 1.0000 - recall: 1.0000\n",
      "Epoch 95/100\n",
      "32/32 [==============================] - 0s 2ms/step - loss: -16522496.0000 - precision: 1.0000 - recall: 1.0000\n",
      "Epoch 96/100\n",
      "32/32 [==============================] - 0s 2ms/step - loss: -16694691.0000 - precision: 1.0000 - recall: 1.0000\n",
      "Epoch 97/100\n",
      "32/32 [==============================] - 0s 2ms/step - loss: -16867014.0000 - precision: 1.0000 - recall: 1.0000\n",
      "Epoch 98/100\n",
      "32/32 [==============================] - 0s 2ms/step - loss: -17038666.0000 - precision: 1.0000 - recall: 1.0000\n",
      "Epoch 99/100\n",
      "32/32 [==============================] - 0s 3ms/step - loss: -17211172.0000 - precision: 1.0000 - recall: 1.0000\n",
      "Epoch 100/100\n",
      "32/32 [==============================] - 0s 2ms/step - loss: -17383144.0000 - precision: 1.0000 - recall: 1.0000\n"
     ]
    }
   ],
   "source": [
    "epochs=100\n",
    "\n",
    "model = Sequential()\n",
    "model.add(Dense(4, input_shape=(X.shape[1],), activation='tanh'))\n",
    "model.add(Dense(2, activation='tanh'))\n",
    "model.add(Dense(1, activation='sigmoid'))\n",
    "\n",
    "model.compile(Adam(learning_rate=0.01), 'binary_crossentropy', metrics=['Precision','Recall'])\n",
    "\n",
    "history = model.fit(X, Y, verbose=1, epochs=epochs)"
   ]
  },
  {
   "cell_type": "code",
   "execution_count": null,
   "id": "4035c24b-2cbe-49e8-a6ea-baf6b10730fa",
   "metadata": {},
   "outputs": [],
   "source": []
  }
 ],
 "metadata": {
  "kernelspec": {
   "display_name": "Python 3",
   "language": "python",
   "name": "python3"
  },
  "language_info": {
   "codemirror_mode": {
    "name": "ipython",
    "version": 3
   },
   "file_extension": ".py",
   "mimetype": "text/x-python",
   "name": "python",
   "nbconvert_exporter": "python",
   "pygments_lexer": "ipython3",
   "version": "3.9.6"
  }
 },
 "nbformat": 4,
 "nbformat_minor": 5
}
