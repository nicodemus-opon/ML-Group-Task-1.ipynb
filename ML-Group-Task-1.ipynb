{
 "cells": [
  {
   "cell_type": "code",
   "execution_count": 1,
   "id": "4db4469b-1d6b-4f23-9863-926e6d9d0486",
   "metadata": {},
   "outputs": [],
   "source": [
    "from sklearn.linear_model import LassoCV\n",
    "\n",
    "import pandas as pd\n",
    "data=pd.read_csv(\"housing_prices.csv\",na_values = \"NA\")"
   ]
  },
  {
   "cell_type": "code",
   "execution_count": 2,
   "id": "9c19b5b0-c670-4c37-b868-362559e2675d",
   "metadata": {},
   "outputs": [],
   "source": [
    "data.drop('Id', axis=1, inplace=True)\n",
    "data.dropna(thresh=0.80*(len(data.columns)),inplace=True) "
   ]
  },
  {
   "cell_type": "code",
   "execution_count": 3,
   "id": "36d5f608-1e3e-4606-8314-a946c8c57042",
   "metadata": {},
   "outputs": [],
   "source": [
    "data[\"FireplaceQu\"].fillna(method=\"bfill\",inplace=True)\n",
    "data['LotFrontage'].fillna((data['LotFrontage'].mean()), inplace=True)\n",
    "data['MasVnrArea'].fillna((data['MasVnrArea'].mean()), inplace=True)\n",
    "data.fillna(method=\"ffill\",inplace=True)"
   ]
  },
  {
   "cell_type": "code",
   "execution_count": 4,
   "id": "c5f741c1-1786-4b4c-933c-b86d36087a51",
   "metadata": {},
   "outputs": [],
   "source": [
    "for col in data.select_dtypes(include='object').columns:\n",
    "    data[col] = data[col].astype(\"category\").cat.codes\n"
   ]
  },
  {
   "cell_type": "code",
   "execution_count": 5,
   "id": "f30897c9-5540-4d21-bf68-e1b296349d34",
   "metadata": {},
   "outputs": [],
   "source": [
    "features = data.drop(\"SalePrice\",1)\n",
    "target = data[\"SalePrice\"]"
   ]
  },
  {
   "cell_type": "code",
   "execution_count": 6,
   "id": "408da2b5-d01e-484e-9a17-5a92da47f9ec",
   "metadata": {},
   "outputs": [],
   "source": [
    "l1 = LassoCV()\n",
    "l1.fit(features, target)\n",
    "coef = pd.Series(l1.coef_, index = features.columns)"
   ]
  },
  {
   "cell_type": "code",
   "execution_count": 7,
   "id": "962698fb-1f09-4135-88bc-6dc2f632efab",
   "metadata": {},
   "outputs": [
    {
     "data": {
      "text/plain": [
       "MSSubClass      -0.000000\n",
       "MSZoning        -0.000000\n",
       "LotFrontage     -0.000000\n",
       "LotArea          0.287220\n",
       "Street           0.000000\n",
       "                   ...   \n",
       "MiscVal         -0.138075\n",
       "MoSold           0.000000\n",
       "YrSold          -0.000000\n",
       "SaleType         0.000000\n",
       "SaleCondition    0.000000\n",
       "Length: 75, dtype: float64"
      ]
     },
     "execution_count": 7,
     "metadata": {},
     "output_type": "execute_result"
    }
   ],
   "source": [
    "coef"
   ]
  },
  {
   "cell_type": "code",
   "execution_count": null,
   "id": "30c21346-b8cd-4b78-b998-d10b78bb97ed",
   "metadata": {},
   "outputs": [],
   "source": []
  }
 ],
 "metadata": {
  "kernelspec": {
   "display_name": "Python 3",
   "language": "python",
   "name": "python3"
  },
  "language_info": {
   "codemirror_mode": {
    "name": "ipython",
    "version": 3
   },
   "file_extension": ".py",
   "mimetype": "text/x-python",
   "name": "python",
   "nbconvert_exporter": "python",
   "pygments_lexer": "ipython3",
   "version": "3.9.6"
  }
 },
 "nbformat": 4,
 "nbformat_minor": 5
}
